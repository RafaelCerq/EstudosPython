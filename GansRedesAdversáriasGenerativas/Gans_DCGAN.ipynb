{
  "nbformat": 4,
  "nbformat_minor": 0,
  "metadata": {
    "colab": {
      "provenance": [],
      "authorship_tag": "ABX9TyOaqU+KIw65BSPO1b0xiIWR",
      "include_colab_link": true
    },
    "kernelspec": {
      "name": "python3",
      "display_name": "Python 3"
    },
    "language_info": {
      "name": "python"
    },
    "accelerator": "GPU",
    "gpuClass": "standard"
  },
  "cells": [
    {
      "cell_type": "markdown",
      "metadata": {
        "id": "view-in-github",
        "colab_type": "text"
      },
      "source": [
        "<a href=\"https://colab.research.google.com/github/RafaelCerq/EstudosPython/blob/main/GansRedesAdvers%C3%A1riasGenerativas/Gans_DCGAN.ipynb\" target=\"_parent\"><img src=\"https://colab.research.google.com/assets/colab-badge.svg\" alt=\"Open In Colab\"/></a>"
      ]
    },
    {
      "cell_type": "markdown",
      "source": [
        "# DCGAN - Deep Convolutional GANs"
      ],
      "metadata": {
        "id": "3wqeHXrwjfhf"
      }
    },
    {
      "cell_type": "markdown",
      "source": [
        "## Importação das bibliotecas\n"
      ],
      "metadata": {
        "id": "WAvLCQEejlG1"
      }
    },
    {
      "cell_type": "code",
      "execution_count": 1,
      "metadata": {
        "colab": {
          "base_uri": "https://localhost:8080/",
          "height": 35
        },
        "id": "SfsThnXBi1P1",
        "outputId": "a01dd70c-c63c-46b5-f7d0-d49ea2626b6c"
      },
      "outputs": [
        {
          "output_type": "execute_result",
          "data": {
            "text/plain": [
              "'2.9.2'"
            ],
            "application/vnd.google.colaboratory.intrinsic+json": {
              "type": "string"
            }
          },
          "metadata": {},
          "execution_count": 1
        }
      ],
      "source": [
        "import matplotlib.pyplot as plt\n",
        "import numpy as np\n",
        "import tensorflow as tf\n",
        "from tensorflow.keras import layers\n",
        "tf.__version__"
      ]
    },
    {
      "cell_type": "markdown",
      "source": [
        "## Carregamento e pré-processamento da base de dados\n",
        "\n",
        "- MNIST é o nome da base de dados que possui os digitos escritos a mão\n",
        "\n",
        "\n"
      ],
      "metadata": {
        "id": "qjYhMl1BlKrE"
      }
    },
    {
      "cell_type": "code",
      "source": [
        "(X_treinamento, y_treinamento), (_, _) = tf.keras.datasets.mnist.load_data()"
      ],
      "metadata": {
        "id": "gpsbtZYTlMND",
        "colab": {
          "base_uri": "https://localhost:8080/"
        },
        "outputId": "6659de6b-ccb0-4986-ea2b-47bd114d831d"
      },
      "execution_count": 2,
      "outputs": [
        {
          "output_type": "stream",
          "name": "stdout",
          "text": [
            "Downloading data from https://storage.googleapis.com/tensorflow/tf-keras-datasets/mnist.npz\n",
            "11490434/11490434 [==============================] - 0s 0us/step\n"
          ]
        }
      ]
    },
    {
      "cell_type": "code",
      "source": [
        "X_treinamento.shape\n"
      ],
      "metadata": {
        "colab": {
          "base_uri": "https://localhost:8080/"
        },
        "id": "FKhE49telxm0",
        "outputId": "4585c47b-a128-4f87-d1a4-3cd35491a7dd"
      },
      "execution_count": 3,
      "outputs": [
        {
          "output_type": "execute_result",
          "data": {
            "text/plain": [
              "(60000, 28, 28)"
            ]
          },
          "metadata": {},
          "execution_count": 3
        }
      ]
    },
    {
      "cell_type": "code",
      "source": [
        "28 * 28"
      ],
      "metadata": {
        "colab": {
          "base_uri": "https://localhost:8080/"
        },
        "id": "LXqQNUREl0wg",
        "outputId": "f5cce181-a731-4369-8bb6-4e64a3e75e2a"
      },
      "execution_count": 4,
      "outputs": [
        {
          "output_type": "execute_result",
          "data": {
            "text/plain": [
              "784"
            ]
          },
          "metadata": {},
          "execution_count": 4
        }
      ]
    },
    {
      "cell_type": "code",
      "source": [
        "y_treinamento.shape"
      ],
      "metadata": {
        "colab": {
          "base_uri": "https://localhost:8080/"
        },
        "id": "WjBbrl_sl3EF",
        "outputId": "7ac2dd15-6d03-4b0f-a52f-c40303c9b408"
      },
      "execution_count": 5,
      "outputs": [
        {
          "output_type": "execute_result",
          "data": {
            "text/plain": [
              "(60000,)"
            ]
          },
          "metadata": {},
          "execution_count": 5
        }
      ]
    },
    {
      "cell_type": "code",
      "source": [
        "i = np.random.randint(0, 60000)\n",
        "#print(i)\n",
        "print(y_treinamento[i])\n",
        "plt.imshow(X_treinamento[i], cmap = 'gray');"
      ],
      "metadata": {
        "colab": {
          "base_uri": "https://localhost:8080/",
          "height": 282
        },
        "id": "9ZZ02Fu3mxCX",
        "outputId": "50064e48-71b2-482f-af3d-0cc56f71f356"
      },
      "execution_count": 6,
      "outputs": [
        {
          "output_type": "stream",
          "name": "stdout",
          "text": [
            "1\n"
          ]
        },
        {
          "output_type": "display_data",
          "data": {
            "text/plain": [
              "<Figure size 432x288 with 1 Axes>"
            ],
            "image/png": "[encoded data removed]"
          },
          "metadata": {
            "needs_background": "light"
          }
        }
      ]
    },
    {
      "cell_type": "markdown",
      "source": [
        "Incluindo número de canais ao final do vetor x_treinamento"
      ],
      "metadata": {
        "id": "iZ3h0_lFnHRg"
      }
    },
    {
      "cell_type": "code",
      "source": [
        "X_treinamento = X_treinamento.reshape(X_treinamento.shape[0], 28, 28, 1).astype('float32')"
      ],
      "metadata": {
        "id": "8SOSJqGfnB5c"
      },
      "execution_count": 7,
      "outputs": []
    },
    {
      "cell_type": "code",
      "source": [
        "X_treinamento.shape"
      ],
      "metadata": {
        "colab": {
          "base_uri": "https://localhost:8080/"
        },
        "id": "n0Hbfu3ynJI1",
        "outputId": "38a1c207-9f32-413f-c19a-f2ba75622f92"
      },
      "execution_count": 8,
      "outputs": [
        {
          "output_type": "execute_result",
          "data": {
            "text/plain": [
              "(60000, 28, 28, 1)"
            ]
          },
          "metadata": {},
          "execution_count": 8
        }
      ]
    },
    {
      "cell_type": "code",
      "source": [
        "X_treinamento[0].min(), X_treinamento[0].max()"
      ],
      "metadata": {
        "colab": {
          "base_uri": "https://localhost:8080/"
        },
        "id": "IMT--oWjnPHO",
        "outputId": "80ab18f9-587d-4fda-968c-c354178946b0"
      },
      "execution_count": 9,
      "outputs": [
        {
          "output_type": "execute_result",
          "data": {
            "text/plain": [
              "(0.0, 255.0)"
            ]
          },
          "metadata": {},
          "execution_count": 9
        }
      ]
    },
    {
      "cell_type": "markdown",
      "source": [
        "Aplicando normalização para treinamento da rede - Ao utilizar uma GAN é recomendado utilizar escalas entre -1 e 1. (127.5 é o valor que esta no meio de 255.0)"
      ],
      "metadata": {
        "id": "D_hXqC0BoeGA"
      }
    },
    {
      "cell_type": "code",
      "source": [
        "X_treinamento = (X_treinamento - 127.5) / 127.5"
      ],
      "metadata": {
        "id": "sWG1VZzVnT96"
      },
      "execution_count": 10,
      "outputs": []
    },
    {
      "cell_type": "code",
      "source": [
        "X_treinamento[0].min(), X_treinamento[0].max()"
      ],
      "metadata": {
        "colab": {
          "base_uri": "https://localhost:8080/"
        },
        "id": "AC2bhGuLnW-I",
        "outputId": "77e64f73-37cc-4de2-bb79-4b590ea5d7d9"
      },
      "execution_count": 11,
      "outputs": [
        {
          "output_type": "execute_result",
          "data": {
            "text/plain": [
              "(-1.0, 1.0)"
            ]
          },
          "metadata": {},
          "execution_count": 11
        }
      ]
    },
    {
      "cell_type": "markdown",
      "source": [
        "Dividir a base de dados de treinamento em batch. No caso, cada batch possui 256 imagens"
      ],
      "metadata": {
        "id": "4tVa-aQXpDG1"
      }
    },
    {
      "cell_type": "code",
      "source": [
        "buffer_size = 60000\n",
        "batch_size = 256"
      ],
      "metadata": {
        "id": "fMdGUFLJnZIY"
      },
      "execution_count": 12,
      "outputs": []
    },
    {
      "cell_type": "code",
      "source": [
        "buffer_size / batch_size"
      ],
      "metadata": {
        "colab": {
          "base_uri": "https://localhost:8080/"
        },
        "id": "3OfGjGa2ncHM",
        "outputId": "18244b4d-71c8-4dd5-f081-555fb075acee"
      },
      "execution_count": 13,
      "outputs": [
        {
          "output_type": "execute_result",
          "data": {
            "text/plain": [
              "234.375"
            ]
          },
          "metadata": {},
          "execution_count": 13
        }
      ]
    },
    {
      "cell_type": "code",
      "source": [
        "type(X_treinamento)"
      ],
      "metadata": {
        "colab": {
          "base_uri": "https://localhost:8080/"
        },
        "id": "z2z9x1bknfXJ",
        "outputId": "c64f9dfa-305d-4b63-e398-6eb1f1fbb168"
      },
      "execution_count": 14,
      "outputs": [
        {
          "output_type": "execute_result",
          "data": {
            "text/plain": [
              "numpy.ndarray"
            ]
          },
          "metadata": {},
          "execution_count": 14
        }
      ]
    },
    {
      "cell_type": "markdown",
      "source": [
        "Converte a base para o formato do tensorflow e dividir em batch"
      ],
      "metadata": {
        "id": "EbDGWVuZpcCF"
      }
    },
    {
      "cell_type": "code",
      "source": [
        "X_treinamento = tf.data.Dataset.from_tensor_slices(X_treinamento).shuffle(buffer_size).batch(batch_size)"
      ],
      "metadata": {
        "id": "37UCCQOfnhkI"
      },
      "execution_count": 15,
      "outputs": []
    },
    {
      "cell_type": "code",
      "source": [
        "type(X_treinamento)"
      ],
      "metadata": {
        "colab": {
          "base_uri": "https://localhost:8080/"
        },
        "id": "Qcues7ucnkNx",
        "outputId": "68e6b752-dc44-48e0-b6d9-e9546e7eb477"
      },
      "execution_count": 16,
      "outputs": [
        {
          "output_type": "execute_result",
          "data": {
            "text/plain": [
              "tensorflow.python.data.ops.dataset_ops.BatchDataset"
            ]
          },
          "metadata": {},
          "execution_count": 16
        }
      ]
    },
    {
      "cell_type": "code",
      "source": [
        "X_treinamento"
      ],
      "metadata": {
        "colab": {
          "base_uri": "https://localhost:8080/"
        },
        "id": "T_c4Ta-nnmcr",
        "outputId": "20606d7a-d28a-4850-9b4e-645836819f92"
      },
      "execution_count": 17,
      "outputs": [
        {
          "output_type": "execute_result",
          "data": {
            "text/plain": [
              "<BatchDataset element_spec=TensorSpec(shape=(None, 28, 28, 1), dtype=tf.float32, name=None)>"
            ]
          },
          "metadata": {},
          "execution_count": 17
        }
      ]
    },
    {
      "cell_type": "markdown",
      "source": [
        "# Construção do gerador\n",
        "\n",
        "- Batch normalization: https://keras.io/api/layers/normalization_layers/batch_normalization/\n",
        "- Leaky Relu: https://keras.io/api/layers/activation_layers/leaky_relu/\n",
        "- Funções de ativação: https://medium.com/@himanshuxd/activation-functions-sigmoid-relu-leaky-relu-and-softmax-basics-for-neural-networks-and-deep-8d9c70eed91e\n",
        "- Padding: https://www.pico.net/kb/what-is-the-difference-between-same-and-valid-padding-in-tf-nn-max-pool-of-tensorflow"
      ],
      "metadata": {
        "id": "my2zHEgsnqv_"
      }
    },
    {
      "cell_type": "code",
      "source": [
        "def cria_gerador():\n",
        "  network = tf.keras.Sequential()\n",
        "\n",
        "  network.add(layers.Dense(units = 7*7*256, use_bias = False, input_shape=(100,)))\n",
        "  network.add(layers.BatchNormalization())\n",
        "  network.add(layers.LeakyReLU())\n",
        "\n",
        "  network.add(layers.Reshape((7,7,256)))\n",
        "\n",
        "  # 7x7x128\n",
        "  network.add(layers.Conv2DTranspose(filters = 128, kernel_size = (5,5), padding='same', use_bias=False))\n",
        "  network.add(layers.BatchNormalization())\n",
        "  network.add(layers.LeakyReLU())\n",
        "\n",
        "  # 14x14x64\n",
        "  network.add(layers.Conv2DTranspose(filters = 64, kernel_size = (5,5), padding='same', use_bias=False, strides=(2,2)))\n",
        "  network.add(layers.BatchNormalization())\n",
        "  network.add(layers.LeakyReLU())\n",
        "\n",
        "  # 28x28x1\n",
        "  network.add(layers.Conv2DTranspose(filters = 1, kernel_size=(5,5), padding='same',use_bias=False, strides=(2,2), activation = 'tanh'))\n",
        "\n",
        "  network.summary()\n",
        "  \n",
        "  return network"
      ],
      "metadata": {
        "id": "vNr1W9cNrRUP"
      },
      "execution_count": 18,
      "outputs": []
    },
    {
      "cell_type": "code",
      "source": [
        "gerador = cria_gerador()"
      ],
      "metadata": {
        "colab": {
          "base_uri": "https://localhost:8080/"
        },
        "id": "QLeNR6ufrWha",
        "outputId": "bcd73ad9-43ab-455e-a900-40a30ba197ad"
      },
      "execution_count": 19,
      "outputs": [
        {
          "output_type": "stream",
          "name": "stdout",
          "text": [
            "Model: \"sequential\"\n",
            "_________________________________________________________________\n",
            " Layer (type)                Output Shape              Param #   \n",
            "=================================================================\n",
            " dense (Dense)               (None, 12544)             1254400   \n",
            "                                                                 \n",
            " batch_normalization (BatchN  (None, 12544)            50176     \n",
            " ormalization)                                                   \n",
            "                                                                 \n",
            " leaky_re_lu (LeakyReLU)     (None, 12544)             0         \n",
            "                                                                 \n",
            " reshape (Reshape)           (None, 7, 7, 256)         0         \n",
            "                                                                 \n",
            " conv2d_transpose (Conv2DTra  (None, 7, 7, 128)        819200    \n",
            " nspose)                                                         \n",
            "                                                                 \n",
            " batch_normalization_1 (Batc  (None, 7, 7, 128)        512       \n",
            " hNormalization)                                                 \n",
            "                                                                 \n",
            " leaky_re_lu_1 (LeakyReLU)   (None, 7, 7, 128)         0         \n",
            "                                                                 \n",
            " conv2d_transpose_1 (Conv2DT  (None, 14, 14, 64)       204800    \n",
            " ranspose)                                                       \n",
            "                                                                 \n",
            " batch_normalization_2 (Batc  (None, 14, 14, 64)       256       \n",
            " hNormalization)                                                 \n",
            "                                                                 \n",
            " leaky_re_lu_2 (LeakyReLU)   (None, 14, 14, 64)        0         \n",
            "                                                                 \n",
            " conv2d_transpose_2 (Conv2DT  (None, 28, 28, 1)        1600      \n",
            " ranspose)                                                       \n",
            "                                                                 \n",
            "=================================================================\n",
            "Total params: 2,330,944\n",
            "Trainable params: 2,305,472\n",
            "Non-trainable params: 25,472\n",
            "_________________________________________________________________\n"
          ]
        }
      ]
    },
    {
      "cell_type": "code",
      "source": [
        "# 100 -> 12544\n",
        "gerador.input"
      ],
      "metadata": {
        "colab": {
          "base_uri": "https://localhost:8080/"
        },
        "id": "nj4ZMg-jrbcH",
        "outputId": "79119e8e-f502-4117-f52f-28a9da6edd62"
      },
      "execution_count": 20,
      "outputs": [
        {
          "output_type": "execute_result",
          "data": {
            "text/plain": [
              "<KerasTensor: shape=(None, 100) dtype=float32 (created by layer 'dense_input')>"
            ]
          },
          "metadata": {},
          "execution_count": 20
        }
      ]
    },
    {
      "cell_type": "code",
      "source": [
        "ruido = tf.random.normal([1, 100])\n",
        "ruido"
      ],
      "metadata": {
        "colab": {
          "base_uri": "https://localhost:8080/"
        },
        "id": "n5NYf9DhreBc",
        "outputId": "236025bc-7a8c-48ac-bcf7-90b8adcae324"
      },
      "execution_count": 21,
      "outputs": [
        {
          "output_type": "execute_result",
          "data": {
            "text/plain": [
              "<tf.Tensor: shape=(1, 100), dtype=float32, numpy=\n",
              "array([[-1.3408707 , -2.6738186 ,  0.01737233, -0.65473664, -1.2461883 ,\n",
              "        -0.46230778,  0.1128033 ,  0.5864473 ,  1.2907217 ,  0.8064785 ,\n",
              "         0.9166771 ,  0.07825478, -1.7989981 , -0.891943  , -0.78870255,\n",
              "        -1.0578365 ,  0.3637721 ,  1.2883373 , -0.44760385, -0.19691744,\n",
              "        -0.29853866, -1.4294081 , -0.63484323, -0.44121504, -0.45235243,\n",
              "        -0.3275004 , -0.60712016,  2.3659642 ,  0.16121875, -1.4696009 ,\n",
              "        -0.68027717,  0.38169163, -0.141735  ,  0.755304  , -0.440399  ,\n",
              "        -0.24372582, -0.15598437,  0.06776179,  0.6549085 ,  0.58877957,\n",
              "         0.3906684 ,  0.05994128,  0.5993318 ,  0.28871349, -0.3586965 ,\n",
              "        -1.8687562 ,  0.87206155,  0.2000561 , -0.55598927, -1.6449589 ,\n",
              "         0.68587446, -0.0487371 ,  0.04502459, -1.3014181 ,  1.0499758 ,\n",
              "         0.7593839 , -0.32350886, -1.769209  , -0.7150416 ,  0.17268004,\n",
              "        -0.52678144, -0.11040903,  1.9321922 ,  1.1509413 ,  0.53753734,\n",
              "        -0.68615454, -1.2461269 , -0.16991234, -0.9953761 , -0.08061959,\n",
              "         0.35046047,  1.2266314 , -1.6621687 , -0.32565224, -0.7988558 ,\n",
              "        -0.7588474 , -0.7954503 , -0.76346743,  0.11618579,  0.02914132,\n",
              "         1.0485466 ,  0.90587366,  0.6350694 , -0.30111024, -0.8368298 ,\n",
              "        -0.89762026,  0.21993405, -1.5121763 ,  0.08544125, -1.3354651 ,\n",
              "        -1.2907839 ,  0.7599747 , -0.09142178, -0.73975486, -1.2350218 ,\n",
              "        -0.33200952, -2.282752  ,  0.66996765,  0.01433385,  0.21379977]],\n",
              "      dtype=float32)>"
            ]
          },
          "metadata": {},
          "execution_count": 21
        }
      ]
    },
    {
      "cell_type": "code",
      "source": [
        "imagem_gerada = gerador(ruido, training = False)"
      ],
      "metadata": {
        "id": "4JIYEQFurg58"
      },
      "execution_count": 22,
      "outputs": []
    },
    {
      "cell_type": "code",
      "source": [
        "imagem_gerada.shape"
      ],
      "metadata": {
        "colab": {
          "base_uri": "https://localhost:8080/"
        },
        "id": "zlzACBidrkC-",
        "outputId": "89524d02-99f2-43b5-ce39-5fb9ffff0444"
      },
      "execution_count": 23,
      "outputs": [
        {
          "output_type": "execute_result",
          "data": {
            "text/plain": [
              "TensorShape([1, 28, 28, 1])"
            ]
          },
          "metadata": {},
          "execution_count": 23
        }
      ]
    },
    {
      "cell_type": "code",
      "source": [
        "plt.imshow(imagem_gerada[0, :, :, 0], cmap='gray');"
      ],
      "metadata": {
        "id": "pWPBHHv2rma2",
        "outputId": "b1716f54-4670-499a-bed6-7a0cdc39378c",
        "colab": {
          "base_uri": "https://localhost:8080/",
          "height": 265
        }
      },
      "execution_count": 24,
      "outputs": [
        {
          "output_type": "display_data",
          "data": {
            "text/plain": [
              "<Figure size 432x288 with 1 Axes>"
            ],
            "image/png": "[encoded data removed]"
          },
          "metadata": {
            "needs_background": "light"
          }
        }
      ]
    },
    {
      "cell_type": "markdown",
      "source": [
        "# Construção do discriminador\n",
        "\n",
        "- Dropout: https://jmlr.org/papers/volume15/srivastava14a/srivastava14a.pdf\n",
        "- Conv2d x Conv2dTranspose: https://stackoverflow.com/questions/68976745/in-keras-what-is-the-difference-between-conv2dtranspose-and-conv2d"
      ],
      "metadata": {
        "id": "arkNsZEl-tn8"
      }
    },
    {
      "cell_type": "code",
      "source": [
        "def cria_discriminador():\n",
        "  network = tf.keras.Sequential()\n",
        "\n",
        "  # 14x14x64\n",
        "  network.add(layers.Conv2D(filters = 64, strides=(2,2), kernel_size = (5,5), padding = 'same', input_shape = [28,28,1]))\n",
        "  network.add(layers.LeakyReLU())\n",
        "  network.add(layers.Dropout(0.3))\n",
        "\n",
        "  # 7x7x128\n",
        "  network.add(layers.Conv2D(filters = 128, strides=(2,2), kernel_size = (5,5), padding = 'same'))\n",
        "  network.add(layers.LeakyReLU())\n",
        "  network.add(layers.Dropout(0.3))\n",
        "\n",
        "  network.add(layers.Flatten())\n",
        "  network.add(layers.Dense(1))\n",
        "\n",
        "  network.summary()\n",
        "\n",
        "  return network"
      ],
      "metadata": {
        "id": "6ilgtC_k-yeo"
      },
      "execution_count": 25,
      "outputs": []
    },
    {
      "cell_type": "code",
      "source": [
        "7 * 7 * 128"
      ],
      "metadata": {
        "colab": {
          "base_uri": "https://localhost:8080/"
        },
        "id": "BhdFUYZZ-6Xc",
        "outputId": "a91f3b56-e908-4942-974e-6d025831396a"
      },
      "execution_count": 2,
      "outputs": [
        {
          "output_type": "execute_result",
          "data": {
            "text/plain": [
              "6272"
            ]
          },
          "metadata": {},
          "execution_count": 2
        }
      ]
    },
    {
      "cell_type": "code",
      "source": [
        "discriminador = cria_discriminador()"
      ],
      "metadata": {
        "colab": {
          "base_uri": "https://localhost:8080/"
        },
        "id": "V65OfbFL-9CS",
        "outputId": "1459d7fe-f5f4-419e-9207-cdbc06b9f007"
      },
      "execution_count": 26,
      "outputs": [
        {
          "output_type": "stream",
          "name": "stdout",
          "text": [
            "Model: \"sequential_1\"\n",
            "_________________________________________________________________\n",
            " Layer (type)                Output Shape              Param #   \n",
            "=================================================================\n",
            " conv2d (Conv2D)             (None, 14, 14, 64)        1664      \n",
            "                                                                 \n",
            " leaky_re_lu_3 (LeakyReLU)   (None, 14, 14, 64)        0         \n",
            "                                                                 \n",
            " dropout (Dropout)           (None, 14, 14, 64)        0         \n",
            "                                                                 \n",
            " conv2d_1 (Conv2D)           (None, 7, 7, 128)         204928    \n",
            "                                                                 \n",
            " leaky_re_lu_4 (LeakyReLU)   (None, 7, 7, 128)         0         \n",
            "                                                                 \n",
            " dropout_1 (Dropout)         (None, 7, 7, 128)         0         \n",
            "                                                                 \n",
            " flatten (Flatten)           (None, 6272)              0         \n",
            "                                                                 \n",
            " dense_1 (Dense)             (None, 1)                 6273      \n",
            "                                                                 \n",
            "=================================================================\n",
            "Total params: 212,865\n",
            "Trainable params: 212,865\n",
            "Non-trainable params: 0\n",
            "_________________________________________________________________\n"
          ]
        }
      ]
    },
    {
      "cell_type": "code",
      "source": [
        "discriminador.input"
      ],
      "metadata": {
        "colab": {
          "base_uri": "https://localhost:8080/"
        },
        "id": "FNG9KHIH_L2g",
        "outputId": "d2513040-ac4d-41cb-ec75-dd48f77a663b"
      },
      "execution_count": 27,
      "outputs": [
        {
          "output_type": "execute_result",
          "data": {
            "text/plain": [
              "<KerasTensor: shape=(None, 28, 28, 1) dtype=float32 (created by layer 'conv2d_input')>"
            ]
          },
          "metadata": {},
          "execution_count": 27
        }
      ]
    },
    {
      "cell_type": "code",
      "source": [
        "discriminador(imagem_gerada, training = False) # logits"
      ],
      "metadata": {
        "colab": {
          "base_uri": "https://localhost:8080/"
        },
        "id": "uoo3nDmL_PqF",
        "outputId": "8d82a41b-02f9-4f50-cfbf-c13a6c2ec819"
      },
      "execution_count": 28,
      "outputs": [
        {
          "output_type": "execute_result",
          "data": {
            "text/plain": [
              "<tf.Tensor: shape=(1, 1), dtype=float32, numpy=array([[0.0010831]], dtype=float32)>"
            ]
          },
          "metadata": {},
          "execution_count": 28
        }
      ]
    },
    {
      "cell_type": "code",
      "source": [
        "tf.sigmoid(0.00356018)"
      ],
      "metadata": {
        "colab": {
          "base_uri": "https://localhost:8080/"
        },
        "id": "LNm8aove_68P",
        "outputId": "63402999-fc48-4fdc-8366-eb3adcb57247"
      },
      "execution_count": 29,
      "outputs": [
        {
          "output_type": "execute_result",
          "data": {
            "text/plain": [
              "<tf.Tensor: shape=(), dtype=float32, numpy=0.5008901>"
            ]
          },
          "metadata": {},
          "execution_count": 29
        }
      ]
    }
  ]
}