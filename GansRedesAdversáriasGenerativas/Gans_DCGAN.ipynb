{
  "nbformat": 4,
  "nbformat_minor": 0,
  "metadata": {
    "colab": {
      "provenance": [],
      "authorship_tag": "ABX9TyOeOxlluEu+DXWpeCTtJYKY",
      "include_colab_link": true
    },
    "kernelspec": {
      "name": "python3",
      "display_name": "Python 3"
    },
    "language_info": {
      "name": "python"
    },
    "accelerator": "GPU",
    "gpuClass": "standard"
  },
  "cells": [
    {
      "cell_type": "markdown",
      "metadata": {
        "id": "view-in-github",
        "colab_type": "text"
      },
      "source": [
        "<a href=\"https://colab.research.google.com/github/RafaelCerq/EstudosPython/blob/main/GansRedesAdvers%C3%A1riasGenerativas/Gans_DCGAN.ipynb\" target=\"_parent\"><img src=\"https://colab.research.google.com/assets/colab-badge.svg\" alt=\"Open In Colab\"/></a>"
      ]
    },
    {
      "cell_type": "markdown",
      "source": [
        "# DCGAN - Deep Convolutional GANs"
      ],
      "metadata": {
        "id": "3wqeHXrwjfhf"
      }
    },
    {
      "cell_type": "markdown",
      "source": [
        "## Importação das bibliotecas\n"
      ],
      "metadata": {
        "id": "WAvLCQEejlG1"
      }
    },
    {
      "cell_type": "code",
      "execution_count": 1,
      "metadata": {
        "colab": {
          "base_uri": "https://localhost:8080/",
          "height": 35
        },
        "id": "SfsThnXBi1P1",
        "outputId": "65b5b2b6-eba0-4fcb-b4d3-3680f3d7bb11"
      },
      "outputs": [
        {
          "output_type": "execute_result",
          "data": {
            "text/plain": [
              "'2.9.2'"
            ],
            "application/vnd.google.colaboratory.intrinsic+json": {
              "type": "string"
            }
          },
          "metadata": {},
          "execution_count": 1
        }
      ],
      "source": [
        "import matplotlib.pyplot as plt\n",
        "import numpy as np\n",
        "import tensorflow as tf\n",
        "from tensorflow.keras import layers\n",
        "tf.__version__"
      ]
    },
    {
      "cell_type": "markdown",
      "source": [
        "## Carregamento e pré-processamento da base de dados\n",
        "\n",
        "- MNIST é o nome da base de dados que possui os digitos escritos a mão\n",
        "\n",
        "\n"
      ],
      "metadata": {
        "id": "qjYhMl1BlKrE"
      }
    },
    {
      "cell_type": "code",
      "source": [
        "(X_treinamento, y_treinamento), (_, _) = tf.keras.datasets.mnist.load_data()"
      ],
      "metadata": {
        "id": "gpsbtZYTlMND",
        "colab": {
          "base_uri": "https://localhost:8080/"
        },
        "outputId": "c51214d3-ff3a-415e-96e7-5f9a394194ab"
      },
      "execution_count": 2,
      "outputs": [
        {
          "output_type": "stream",
          "name": "stdout",
          "text": [
            "Downloading data from https://storage.googleapis.com/tensorflow/tf-keras-datasets/mnist.npz\n",
            "11490434/11490434 [==============================] - 2s 0us/step\n"
          ]
        }
      ]
    },
    {
      "cell_type": "code",
      "source": [
        "X_treinamento.shape\n"
      ],
      "metadata": {
        "colab": {
          "base_uri": "https://localhost:8080/"
        },
        "id": "FKhE49telxm0",
        "outputId": "fa09ec77-f269-4892-90fd-5b97e2203923"
      },
      "execution_count": 3,
      "outputs": [
        {
          "output_type": "execute_result",
          "data": {
            "text/plain": [
              "(60000, 28, 28)"
            ]
          },
          "metadata": {},
          "execution_count": 3
        }
      ]
    },
    {
      "cell_type": "code",
      "source": [
        "28 * 28"
      ],
      "metadata": {
        "colab": {
          "base_uri": "https://localhost:8080/"
        },
        "id": "LXqQNUREl0wg",
        "outputId": "9ecbe4b1-0894-403f-98fc-85c9d4778ab1"
      },
      "execution_count": 4,
      "outputs": [
        {
          "output_type": "execute_result",
          "data": {
            "text/plain": [
              "784"
            ]
          },
          "metadata": {},
          "execution_count": 4
        }
      ]
    },
    {
      "cell_type": "code",
      "source": [
        "y_treinamento.shape"
      ],
      "metadata": {
        "colab": {
          "base_uri": "https://localhost:8080/"
        },
        "id": "WjBbrl_sl3EF",
        "outputId": "7c08c5ce-1a2c-4583-c825-7a4a0ddf7f8d"
      },
      "execution_count": 5,
      "outputs": [
        {
          "output_type": "execute_result",
          "data": {
            "text/plain": [
              "(60000,)"
            ]
          },
          "metadata": {},
          "execution_count": 5
        }
      ]
    },
    {
      "cell_type": "code",
      "source": [
        "i = np.random.randint(0, 60000)\n",
        "#print(i)\n",
        "print(y_treinamento[i])\n",
        "plt.imshow(X_treinamento[i], cmap = 'gray');"
      ],
      "metadata": {
        "colab": {
          "base_uri": "https://localhost:8080/",
          "height": 282
        },
        "id": "9ZZ02Fu3mxCX",
        "outputId": "a4077b96-11bb-4d34-b4bd-c04367175f98"
      },
      "execution_count": 7,
      "outputs": [
        {
          "output_type": "stream",
          "name": "stdout",
          "text": [
            "9\n"
          ]
        },
        {
          "output_type": "display_data",
          "data": {
            "text/plain": [
              "<Figure size 432x288 with 1 Axes>"
            ],
            "image/png": "[encoded data removed]"
          },
          "metadata": {
            "needs_background": "light"
          }
        }
      ]
    },
    {
      "cell_type": "markdown",
      "source": [
        "Incluindo número de canais ao final do vetor x_treinamento"
      ],
      "metadata": {
        "id": "iZ3h0_lFnHRg"
      }
    },
    {
      "cell_type": "code",
      "source": [
        "X_treinamento = X_treinamento.reshape(X_treinamento.shape[0], 28, 28, 1).astype('float32')"
      ],
      "metadata": {
        "id": "8SOSJqGfnB5c"
      },
      "execution_count": 8,
      "outputs": []
    },
    {
      "cell_type": "code",
      "source": [
        "X_treinamento.shape"
      ],
      "metadata": {
        "colab": {
          "base_uri": "https://localhost:8080/"
        },
        "id": "n0Hbfu3ynJI1",
        "outputId": "b6ac7033-db19-482e-c3c4-343599a77736"
      },
      "execution_count": 9,
      "outputs": [
        {
          "output_type": "execute_result",
          "data": {
            "text/plain": [
              "(60000, 28, 28, 1)"
            ]
          },
          "metadata": {},
          "execution_count": 9
        }
      ]
    },
    {
      "cell_type": "code",
      "source": [
        "X_treinamento[0].min(), X_treinamento[0].max()"
      ],
      "metadata": {
        "colab": {
          "base_uri": "https://localhost:8080/"
        },
        "id": "IMT--oWjnPHO",
        "outputId": "168529ac-3eec-4399-f20e-d1541314c469"
      },
      "execution_count": 10,
      "outputs": [
        {
          "output_type": "execute_result",
          "data": {
            "text/plain": [
              "(0.0, 255.0)"
            ]
          },
          "metadata": {},
          "execution_count": 10
        }
      ]
    },
    {
      "cell_type": "markdown",
      "source": [
        "Aplicando normalização para treinamento da rede - Ao utilizar uma GAN é recomendado utilizar escalas entre -1 e 1. (127.5 é o valor que esta no meio de 255.0)"
      ],
      "metadata": {
        "id": "D_hXqC0BoeGA"
      }
    },
    {
      "cell_type": "code",
      "source": [
        "X_treinamento = (X_treinamento - 127.5) / 127.5"
      ],
      "metadata": {
        "id": "sWG1VZzVnT96"
      },
      "execution_count": 11,
      "outputs": []
    },
    {
      "cell_type": "code",
      "source": [
        "X_treinamento[0].min(), X_treinamento[0].max()"
      ],
      "metadata": {
        "colab": {
          "base_uri": "https://localhost:8080/"
        },
        "id": "AC2bhGuLnW-I",
        "outputId": "fcbc1290-2528-4630-c279-177430df0b7d"
      },
      "execution_count": 12,
      "outputs": [
        {
          "output_type": "execute_result",
          "data": {
            "text/plain": [
              "(-1.0, 1.0)"
            ]
          },
          "metadata": {},
          "execution_count": 12
        }
      ]
    },
    {
      "cell_type": "markdown",
      "source": [
        "Dividir a base de dados de treinamento em batch. No caso, cada batch possui 256 imagens"
      ],
      "metadata": {
        "id": "4tVa-aQXpDG1"
      }
    },
    {
      "cell_type": "code",
      "source": [
        "buffer_size = 60000\n",
        "batch_size = 256"
      ],
      "metadata": {
        "id": "fMdGUFLJnZIY"
      },
      "execution_count": 13,
      "outputs": []
    },
    {
      "cell_type": "code",
      "source": [
        "buffer_size / batch_size"
      ],
      "metadata": {
        "colab": {
          "base_uri": "https://localhost:8080/"
        },
        "id": "3OfGjGa2ncHM",
        "outputId": "e8f75de5-00e6-4fe6-af90-86d714cc3b66"
      },
      "execution_count": 14,
      "outputs": [
        {
          "output_type": "execute_result",
          "data": {
            "text/plain": [
              "234.375"
            ]
          },
          "metadata": {},
          "execution_count": 14
        }
      ]
    },
    {
      "cell_type": "code",
      "source": [
        "type(X_treinamento)"
      ],
      "metadata": {
        "colab": {
          "base_uri": "https://localhost:8080/"
        },
        "id": "z2z9x1bknfXJ",
        "outputId": "e8adf57e-8891-4ae9-bf66-4ef16f637a53"
      },
      "execution_count": 15,
      "outputs": [
        {
          "output_type": "execute_result",
          "data": {
            "text/plain": [
              "numpy.ndarray"
            ]
          },
          "metadata": {},
          "execution_count": 15
        }
      ]
    },
    {
      "cell_type": "markdown",
      "source": [
        "Converte a base para o formato do tensorflow e dividir em batch"
      ],
      "metadata": {
        "id": "EbDGWVuZpcCF"
      }
    },
    {
      "cell_type": "code",
      "source": [
        "X_treinamento = tf.data.Dataset.from_tensor_slices(X_treinamento).shuffle(buffer_size).batch(batch_size)"
      ],
      "metadata": {
        "id": "37UCCQOfnhkI"
      },
      "execution_count": 16,
      "outputs": []
    },
    {
      "cell_type": "code",
      "source": [
        "type(X_treinamento)"
      ],
      "metadata": {
        "colab": {
          "base_uri": "https://localhost:8080/"
        },
        "id": "Qcues7ucnkNx",
        "outputId": "2ba80f47-de90-4546-a96f-5a38d2e8ce87"
      },
      "execution_count": 17,
      "outputs": [
        {
          "output_type": "execute_result",
          "data": {
            "text/plain": [
              "tensorflow.python.data.ops.dataset_ops.BatchDataset"
            ]
          },
          "metadata": {},
          "execution_count": 17
        }
      ]
    },
    {
      "cell_type": "code",
      "source": [
        "X_treinamento"
      ],
      "metadata": {
        "colab": {
          "base_uri": "https://localhost:8080/"
        },
        "id": "T_c4Ta-nnmcr",
        "outputId": "9d274d06-28ce-4867-f4c3-8452575d21de"
      },
      "execution_count": 18,
      "outputs": [
        {
          "output_type": "execute_result",
          "data": {
            "text/plain": [
              "<BatchDataset element_spec=TensorSpec(shape=(None, 28, 28, 1), dtype=tf.float32, name=None)>"
            ]
          },
          "metadata": {},
          "execution_count": 18
        }
      ]
    },
    {
      "cell_type": "markdown",
      "source": [
        "# Construção do gerador\n",
        "\n",
        "- Batch normalization: https://keras.io/api/layers/normalization_layers/batch_normalization/\n",
        "- Leaky Relu: https://keras.io/api/layers/activation_layers/leaky_relu/\n",
        "- Funções de ativação: https://medium.com/@himanshuxd/activation-functions-sigmoid-relu-leaky-relu-and-softmax-basics-for-neural-networks-and-deep-8d9c70eed91e\n",
        "- Padding: https://www.pico.net/kb/what-is-the-difference-between-same-and-valid-padding-in-tf-nn-max-pool-of-tensorflow"
      ],
      "metadata": {
        "id": "my2zHEgsnqv_"
      }
    }
  ]
}